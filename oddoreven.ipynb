{
 "cells": [
  {
   "cell_type": "code",
   "execution_count": null,
   "id": "63ee8b3a",
   "metadata": {},
   "outputs": [],
   "source": [
    "# Program to check if a given number is Odd or Even\n",
    "a=int(input(\"Enter a number \"))\n",
    "if a%2==0:\n",
    "    print(a,\" is an even number\")\n",
    "else:\n",
    "    print(a,\" is an odd number\")"
   ]
  },
  {
   "cell_type": "code",
   "execution_count": null,
   "id": "0976966a",
   "metadata": {},
   "outputs": [],
   "source": []
  }
 ],
 "metadata": {
  "kernelspec": {
   "display_name": "Python 3 (ipykernel)",
   "language": "python",
   "name": "python3"
  },
  "language_info": {
   "codemirror_mode": {
    "name": "ipython",
    "version": 3
   },
   "file_extension": ".py",
   "mimetype": "text/x-python",
   "name": "python",
   "nbconvert_exporter": "python",
   "pygments_lexer": "ipython3",
   "version": "3.11.4"
  }
 },
 "nbformat": 4,
 "nbformat_minor": 5
}
