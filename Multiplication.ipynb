{
 "cells": [
  {
   "cell_type": "code",
   "execution_count": 5,
   "id": "af1a008a",
   "metadata": {},
   "outputs": [
    {
     "name": "stdout",
     "output_type": "stream",
     "text": [
      "Enter a number10\n",
      "Multiplication Table of 10\n",
      "1 X 10 = 10\n",
      "2 X 10 = 20\n",
      "3 X 10 = 30\n",
      "4 X 10 = 40\n",
      "5 X 10 = 50\n",
      "6 X 10 = 60\n",
      "7 X 10 = 70\n",
      "8 X 10 = 80\n",
      "9 X 10 = 90\n",
      "10 X 10 = 100\n"
     ]
    }
   ],
   "source": [
    "#Multiplication Of a number\n",
    "a=int(input('Enter a number'))\n",
    "print('Multiplication Table of',str(a))\n",
    "for i in range(1,11,1):\n",
    "    print(str(i)+ ' X '+str(a)+' = '+str(i*a))"
   ]
  },
  {
   "cell_type": "code",
   "execution_count": null,
   "id": "b3185194",
   "metadata": {},
   "outputs": [],
   "source": []
  },
  {
   "cell_type": "code",
   "execution_count": null,
   "id": "42413d60",
   "metadata": {},
   "outputs": [],
   "source": []
  }
 ],
 "metadata": {
  "kernelspec": {
   "display_name": "Python 3 (ipykernel)",
   "language": "python",
   "name": "python3"
  },
  "language_info": {
   "codemirror_mode": {
    "name": "ipython",
    "version": 3
   },
   "file_extension": ".py",
   "mimetype": "text/x-python",
   "name": "python",
   "nbconvert_exporter": "python",
   "pygments_lexer": "ipython3",
   "version": "3.11.4"
  }
 },
 "nbformat": 4,
 "nbformat_minor": 5
}
